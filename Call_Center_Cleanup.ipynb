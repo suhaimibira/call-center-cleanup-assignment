{
 "cells": [
  {
   "cell_type": "markdown",
   "id": "331a1c4f",
   "metadata": {},
   "source": [
    "# Call Center Cleanup\n",
    "\n",
    "For this assignment, we will be working with call center data. You can start working on the assignment after the first lesson on Exploratory Data Analysis with pandas. Make sure to read the whole assignment before starting anything! As you code along in the Jupyter notebook, you are asked to make note of the results of your analysis. Do so by clicking on the results box and adding your notes beside each question.\n",
    "\n",
    "## Business Issue and Understanding\n",
    "\n",
    "You are working for a company that has two call centers: the North Call Center and the South Call Center. The company is looking to possibly hire five additional reps to enhance customer experience. Your task is to explore how efficient the current reps are in each branch to determine which branch would benefit from additional assistance.\n",
    "\n",
    "### How the Call Center Works\n",
    "\n",
    "Call center representatives are assigned queues. When calls are assigned to a queue, the call is assigned to the next person in line in the queue. After a call is assigned to a representative, the amount of time between assignment and the call starting is divided into busy minutes and not ready minutes. If the call is incoming and a customer is waiting on the phone for a rep, the time is split into three categories: busy minutes, not ready minutes, and incoming call wait time. Once the rep has the customer on the phone, there might be during call wait time, where the call is put on hold while the rep gets an answer for the customer.\n",
    "\n",
    "### Notes about the Dataset\n",
    "\n",
    "If you haven't worked in a call center before, these notes might help you throughout your analysis.\n",
    "\n",
    "* The call purpose is tagged for each call.\n",
    "* The time of the call is tagged in 1 hour blocks starting at 9:00 AM and ending at 5:00 PM.\n",
    "* Calls are tagged as incoming or outgoing.\n",
    "* Reps are assigned to queues. When the reps are working, they take calls in the order of their queue.\n",
    "* A call that is dropped due to technical error or missed by the center because they have reached maximum capacity is a lost call.\n",
    "* An abandoned call is when the customer hangs up because they have been waiting for too long.\n",
    "* Busy Minutes: the amount of time after a call comes in or needs to go out where the assigned rep is not available because they are busy with other customers.\n",
    "* Not Ready Minutes: the amount of time after a call comes in or needs to go out where the assigned rep is not available because they are not ready (for example, getting water).\n",
    "* Incoming Wait Time - amount of time after assigned rep is available to take the call customer waits for representative to pick up a call. This is tracked in seconds.\n",
    "* During Call Wait Time - amount of time during call that customer has to wait for representative\n",
    "\n",
    "## Getting Started\n",
    "\n",
    "You have two CSVs at your disposal, `NorthCallCenter.csv` and `SouthCallCenter.csv`. Import the appropriate libraries and create two dataframes, one called `north_df` and one called `south_df`."
   ]
  },
  {
   "cell_type": "code",
   "execution_count": 2,
   "id": "f362436b",
   "metadata": {},
   "outputs": [
    {
     "name": "stdout",
     "output_type": "stream",
     "text": [
      "Requirement already satisfied: pandas in c:\\users\\sabria\\appdata\\local\\programs\\python\\python312\\lib\\site-packages (2.2.2)\n",
      "Requirement already satisfied: numpy>=1.26.0 in c:\\users\\sabria\\appdata\\local\\programs\\python\\python312\\lib\\site-packages (from pandas) (2.1.1)\n",
      "Requirement already satisfied: python-dateutil>=2.8.2 in c:\\users\\sabria\\appdata\\local\\programs\\python\\python312\\lib\\site-packages (from pandas) (2.9.0.post0)\n",
      "Requirement already satisfied: pytz>=2020.1 in c:\\users\\sabria\\appdata\\local\\programs\\python\\python312\\lib\\site-packages (from pandas) (2024.2)\n",
      "Requirement already satisfied: tzdata>=2022.7 in c:\\users\\sabria\\appdata\\local\\programs\\python\\python312\\lib\\site-packages (from pandas) (2024.1)\n",
      "Requirement already satisfied: six>=1.5 in c:\\users\\sabria\\appdata\\local\\programs\\python\\python312\\lib\\site-packages (from python-dateutil>=2.8.2->pandas) (1.16.0)\n"
     ]
    }
   ],
   "source": [
    "# Import the appropriate libraries with aliases\n",
    "!pip install pandas\n",
    "import pandas as pd \n",
    "# Create two new dataframes\n",
    "north_df= pd.read_csv(r'C:\\Users\\Sabria\\Desktop\\Python\\call-center-cleanup-assignment\\\\NorthCallCenter.csv')\n",
    "south_df = pd.read_csv(r'C:\\Users\\Sabria\\Desktop\\Python\\call-center-cleanup-assignment\\\\SouthCallCenter.csv')"
   ]
  },
  {
   "cell_type": "markdown",
   "id": "b4d3484b",
   "metadata": {},
   "source": [
    "## Task 1: Exploratory Data Analysis\n",
    "\n",
    "Time to do some EDA! In the process of learning more about the two datasets, answer the following questions. Use the code blocks below to begin cleaning your data. At the end of the section, record your answers."
   ]
  },
  {
   "cell_type": "markdown",
   "id": "76898991",
   "metadata": {},
   "source": [
    "#### EDA Question 1A:  How many reps are in the North branch?  "
   ]
  },
  {
   "cell_type": "code",
   "execution_count": 13,
   "id": "ce3eb5e4",
   "metadata": {},
   "outputs": [
    {
     "data": {
      "text/plain": [
       "9"
      ]
     },
     "execution_count": 13,
     "metadata": {},
     "output_type": "execute_result"
    }
   ],
   "source": [
    "# EDA Question 1A solution below:\n",
    "north_df['Rep ID'].nunique()\n"
   ]
  },
  {
   "cell_type": "markdown",
   "id": "2a9b34d8",
   "metadata": {},
   "source": [
    "#### EDA Question 1B:  How many reps are in the South branch?  "
   ]
  },
  {
   "cell_type": "code",
   "execution_count": 14,
   "id": "3c715bbf",
   "metadata": {},
   "outputs": [
    {
     "data": {
      "text/plain": [
       "11"
      ]
     },
     "execution_count": 14,
     "metadata": {},
     "output_type": "execute_result"
    }
   ],
   "source": [
    "# EDA Question 1B solution Below:\n",
    "south_df['Rep ID'].nunique()"
   ]
  },
  {
   "cell_type": "markdown",
   "id": "a872f045",
   "metadata": {},
   "source": [
    "#### EDA Question 2A:  What is the average busy minutes, not ready minutes, incoming wait time, and during call wait time for the North branch? "
   ]
  },
  {
   "cell_type": "code",
   "execution_count": 11,
   "id": "3759305f",
   "metadata": {},
   "outputs": [
    {
     "name": "stdout",
     "output_type": "stream",
     "text": [
      "Busy Minutes             9.99\n",
      "Not Ready Minutes        1.91\n",
      "Incoming Wait Time       3.05\n",
      "During Call Wait Time    2.97\n",
      "dtype: float64\n"
     ]
    }
   ],
   "source": [
    "# EDA Question 2A solution Below:\n",
    "average_north = round(north_df[['Busy Minutes', 'Not Ready Minutes', 'Incoming Wait Time', 'During Call Wait Time']].mean(axis=0),2)\n",
    "\n",
    "print(average_north)"
   ]
  },
  {
   "cell_type": "markdown",
   "id": "3851cf3e",
   "metadata": {},
   "source": [
    "#### EDA Question 2B:  What is the average busy minutes, not ready minutes, incoming wait time, and during call wait time for the South branch? "
   ]
  },
  {
   "cell_type": "code",
   "execution_count": 12,
   "id": "a77ec152",
   "metadata": {},
   "outputs": [
    {
     "name": "stdout",
     "output_type": "stream",
     "text": [
      "Busy Minutes             10.05\n",
      "Not Ready Minutes         1.91\n",
      "Incoming Wait Time        3.00\n",
      "During Call Wait Time     3.08\n",
      "dtype: float64\n"
     ]
    }
   ],
   "source": [
    "# EDA Question 2B solution Below:\n",
    "\n",
    "average_south= round(south_df[['Busy Minutes', 'Not Ready Minutes', 'Incoming Wait Time', 'During Call Wait Time']].mean(axis=0),2)\n",
    "#all wrong\n",
    "\n",
    "print(average_south)"
   ]
  },
  {
   "cell_type": "markdown",
   "id": "75915553",
   "metadata": {},
   "source": [
    "#### EDA Question 3:  What is the number of calls taken for each time block(Both North and South combined)?"
   ]
  },
  {
   "cell_type": "code",
   "execution_count": 15,
   "id": "49566936",
   "metadata": {},
   "outputs": [
    {
     "name": "stdout",
     "output_type": "stream",
     "text": [
      "Time Block\n",
      "10:00 AM     99\n",
      "11:00 AM     56\n",
      "12:00 PM    120\n",
      "1:00 PM      40\n",
      "2:00 PM      65\n",
      "3:00 PM      73\n",
      "4:00 PM      53\n",
      "5:00 PM      43\n",
      "9:00 AM      10\n",
      "Name: Calls, dtype: int64\n",
      "Time Block\n",
      "10:00 AM     99\n",
      "11:00 AM     56\n",
      "12:00 PM    120\n",
      "1:00 PM      40\n",
      "2:00 PM      65\n",
      "3:00 PM      73\n",
      "4:00 PM      53\n",
      "5:00 PM      43\n",
      "9:00 AM      10\n",
      "Name: Calls, dtype: int64\n",
      "Time Block\n",
      "10:00 AM     99\n",
      "11:00 AM     56\n",
      "12:00 PM    120\n",
      "1:00 PM      40\n",
      "2:00 PM      65\n",
      "3:00 PM      73\n",
      "4:00 PM      53\n",
      "5:00 PM      43\n",
      "9:00 AM      10\n",
      "Name: Calls, dtype: int64\n"
     ]
    }
   ],
   "source": [
    "# EDA Question 3 solution Below:\n",
    "north_calls_per_timeblock = north_df.groupby(['Time Block'])['Calls'].sum()\n",
    "print(total_calls_per_timeblock)\n",
    "\n",
    "south_calls_per_timeblock = south_df.groupby(['Time Block'])['Calls'].sum()\n",
    "print(total_calls_per_timeblock)\n",
    "\n",
    "total_calls_per_timeblock = north_calls_per_timeblock.add(south_calls_per_timeblock, fill_value=0)\n",
    "print(total_calls_per_timeblock)\n"
   ]
  },
  {
   "cell_type": "markdown",
   "id": "544e736c",
   "metadata": {
    "jp-MarkdownHeadingCollapsed": true
   },
   "source": [
    "#### Record your answers below:\n",
    "\n",
    "1A)\n",
    " 9 reps\n",
    "1B)\n",
    " 11 reps \n",
    "2A)\n",
    "Busy Minutes             9.99\n",
    "Not Ready Minutes        1.91\n",
    "Incoming Wait Time       3.05\n",
    "During Call Wait Time    2.97\n",
    "2B)\n",
    "Busy Minutes             10.05\n",
    "Not Ready Minutes        1.91\n",
    "Incoming Wait Time       3.00\n",
    "During Call Wait Time    3.08\n",
    "3)\n",
    "9:00 AM:    10\t\n",
    "10:00 AM\t99\n",
    "11:00 AM\t56\n",
    "12:00 AM:   120\n",
    "1:00 PM:\t40\n",
    "2:00 PM:\t65\n",
    "3:00 PM:\t73\n",
    "4:00 PM:\t53\n",
    "5:00 PM:\t43\n"
   ]
  },
  {
   "cell_type": "markdown",
   "id": "366bfb19",
   "metadata": {},
   "source": [
    "## Task 2: Cleaning Your Data \n",
    "Now you need to clean up the datasets. When cleaning the datasets, you may find that there isn't dirty data to clean. That is okay! Some questions you need to answer about the data sets.\n",
    "* Add additional code blocks as needed to show how you came to your conclusions. Add comments in your code blocks to help others understand your thinking. "
   ]
  },
  {
   "cell_type": "markdown",
   "id": "c3564d69",
   "metadata": {},
   "source": [
    "#### Cleaning Question 1:  Is there any missing data and if yes explain what you would do with the missing data and why?"
   ]
  },
  {
   "cell_type": "code",
   "execution_count": 4,
   "id": "b77fb574",
   "metadata": {},
   "outputs": [
    {
     "name": "stdout",
     "output_type": "stream",
     "text": [
      "Unnamed: 0 - 0%\n",
      "Branch - 0%\n",
      "Call Purpose - 0%\n",
      "Time Block - 0%\n",
      "Incoming or Outgoing - 0%\n",
      "Queue - 0%\n",
      "Rep ID - 0%\n",
      "Sale - 0%\n",
      "Lost Call - 0%\n",
      "Abandoned - 0%\n",
      "Busy Minutes - 0%\n",
      "Not Ready Minutes - 0%\n",
      "Incoming Wait Time - 0%\n",
      "During Call Wait Time - 0%\n",
      "Calls - 0%\n",
      "two_second_wait - 0%\n",
      "\n",
      "Unnamed: 0 - 0%\n",
      "Branch - 0%\n",
      "Call Purpose - 0%\n",
      "Time Block - 0%\n",
      "Incoming or Outgoing - 0%\n",
      "Queue - 0%\n",
      "Rep ID - 0%\n",
      "Sale - 0%\n",
      "Lost Call - 0%\n",
      "Abandoned - 0%\n",
      "Busy Minutes - 0%\n",
      "Not Ready Minutes - 0%\n",
      "Incoming Wait Time - 60%\n",
      "During Call Wait Time - 0%\n",
      "Calls - 0%\n"
     ]
    },
    {
     "data": {
      "text/plain": [
       "0      1.0\n",
       "1      1.0\n",
       "2      1.0\n",
       "3      1.0\n",
       "4      1.0\n",
       "      ... \n",
       "240    0.0\n",
       "241    0.0\n",
       "242    0.0\n",
       "243    0.0\n",
       "244    0.0\n",
       "Name: Incoming Wait Time, Length: 245, dtype: float64"
      ]
     },
     "metadata": {},
     "output_type": "display_data"
    }
   ],
   "source": [
    "# Question 1 solution below\n",
    "import pandas as pd\n",
    "import numpy as np\n",
    "\n",
    "for col in north_df.columns:\n",
    "    pct_missing = np.mean(north_df[col].isnull())\n",
    "    print('{} - {}%'.format(col, round(pct_missing * 100)))\n",
    "\n",
    "print()\n",
    "\n",
    "for col in south_df.columns:\n",
    "    pct_missing = np.mean(south_df[col].isnull())\n",
    "    print('{} - {}%'.format(col, round(pct_missing * 100)))\n",
    "\n",
    "north_df[\"Incoming Wait Time\"] = north_df[\"Incoming Wait Time\"].fillna(0)\n",
    "display(north_df[\"Incoming Wait Time\"])\n"
   ]
  },
  {
   "cell_type": "markdown",
   "id": "0dc5c568-40db-4889-b82b-64610d8058d2",
   "metadata": {},
   "source": [
    "#### Record your answer below:\n",
    "\n",
    "> Your Answer: Depending on the percentage of the missing data, I would either drop it or fill NaaN with something else according to the context. In this case, Incoming Wait Time has 60% missing data, but also has 40% data. Therefore, I would just use the 40% to do my analysis. "
   ]
  },
  {
   "cell_type": "markdown",
   "id": "dc47f020",
   "metadata": {},
   "source": [
    "#### Cleaning Question 2:  In the North data set, there are two separate \"YES\" values for a sale. Why and how did you rectify the issue?"
   ]
  },
  {
   "cell_type": "code",
   "execution_count": 52,
   "id": "4e0fbad6",
   "metadata": {},
   "outputs": [
    {
     "name": "stdout",
     "output_type": "stream",
     "text": [
      "['NO' 'YES']\n",
      "['NO' 'YES']\n"
     ]
    }
   ],
   "source": [
    "# Cleaning Question 2 solution below:\n",
    "\n",
    "print(north_df['Sale'].unique())\n",
    "\n",
    "north_df['Sale']= north_df['Sale'].str.rstrip()\n",
    "\n",
    "print(north_df['Sale'].unique())\n"
   ]
  },
  {
   "cell_type": "markdown",
   "id": "cf81b612-eb6b-45a6-ac8e-d6f4e08131a8",
   "metadata": {},
   "source": [
    "##### Record your answer by below:\n",
    "> Your Answer:  I first find the unique values that are shown in the \"Sale' column and it showed 2 'YES'; one with a trailing space and one without one. Then I used \"str.rstrip()' to remove any unwanted spaces from the end of the strings. Afterwards, I check to see if it fixed the problem with unique; it shows only one 'yes' which shows that it is fixed. "
   ]
  },
  {
   "cell_type": "markdown",
   "id": "715f375a",
   "metadata": {},
   "source": [
    "#### Cleaning Question 3:  Are there duplicates in the two data sets? If there are, how did you handle them?"
   ]
  },
  {
   "cell_type": "code",
   "execution_count": 18,
   "id": "2323673a",
   "metadata": {},
   "outputs": [
    {
     "data": {
      "text/plain": [
       "np.int64(0)"
      ]
     },
     "execution_count": 18,
     "metadata": {},
     "output_type": "execute_result"
    }
   ],
   "source": [
    "# Cleaning Question 3 solution below: \n",
    "north_df.duplicated().sum()\n",
    "south_df.duplicated().sum()"
   ]
  },
  {
   "cell_type": "markdown",
   "id": "4fbfe2e8-490a-48dc-b0ca-599879076c62",
   "metadata": {},
   "source": [
    "##### Record your answer below:\n",
    "> Your Answer: There are no duplicates on the dataset. "
   ]
  },
  {
   "cell_type": "markdown",
   "id": "8ffaa865",
   "metadata": {},
   "source": [
    "#### Cleaning Question 4:  Is any of the data in the two data sets unnecessary? If yes, how did you handle it?"
   ]
  },
  {
   "cell_type": "code",
   "execution_count": 17,
   "id": "78b45e70",
   "metadata": {},
   "outputs": [],
   "source": [
    "# Cleaning Question 4 solution below:\n",
    "#north_df = north_df.drop([\"COLUMN\"], axis=1) \n",
    "#south_df = south_df.drop([\"COLUMN\"], axis=1) = how I would code it.  "
   ]
  },
  {
   "cell_type": "markdown",
   "id": "689e76b9-64d2-45d7-883a-b8c4d822e0c8",
   "metadata": {},
   "source": [
    "##### Record your answer below:\n",
    "> Your Answer: I did not find any data that was not necessary for analysis. "
   ]
  },
  {
   "cell_type": "markdown",
   "id": "73342a9a",
   "metadata": {},
   "source": [
    "## Task 3: Data Manipulation\n",
    "Before you begin answering any questions, combine the two datasets together to create a third dataframe called df. You can use this third dataframe to compare the two call centers to company-wide trends.\n",
    "* Add additional code blocks as needed to show how you came to your conclusions. Add comments in your code blocks to help others understand your thinking. Record your answer below."
   ]
  },
  {
   "cell_type": "code",
   "execution_count": 17,
   "id": "e9705c34",
   "metadata": {},
   "outputs": [
    {
     "name": "stdout",
     "output_type": "stream",
     "text": [
      "<class 'pandas.core.frame.DataFrame'>\n",
      "Index: 559 entries, 0 to 313\n",
      "Data columns (total 15 columns):\n",
      " #   Column                 Non-Null Count  Dtype  \n",
      "---  ------                 --------------  -----  \n",
      " 0   Unnamed: 0             559 non-null    int64  \n",
      " 1   Branch                 559 non-null    object \n",
      " 2   Call Purpose           559 non-null    object \n",
      " 3   Time Block             559 non-null    object \n",
      " 4   Incoming or Outgoing   559 non-null    object \n",
      " 5   Queue                  559 non-null    object \n",
      " 6   Rep ID                 559 non-null    object \n",
      " 7   Sale                   559 non-null    object \n",
      " 8   Lost Call              559 non-null    int64  \n",
      " 9   Abandoned              559 non-null    int64  \n",
      " 10  Busy Minutes           559 non-null    int64  \n",
      " 11  Not Ready Minutes      559 non-null    int64  \n",
      " 12  Incoming Wait Time     208 non-null    float64\n",
      " 13  During Call Wait Time  559 non-null    int64  \n",
      " 14  Calls                  559 non-null    int64  \n",
      "dtypes: float64(1), int64(7), object(7)\n",
      "memory usage: 69.9+ KB\n",
      "None\n"
     ]
    }
   ],
   "source": [
    "# Create dataframe for the entire company named df\n",
    "import pandas as pd\n",
    "import numpy as np\n",
    "\n",
    "df = pd.concat([north_df, south_df])\n",
    "#combining two data frames to a combined dataframe \n",
    "print(df.info())\n",
    "#printing general information about the dataframe"
   ]
  },
  {
   "cell_type": "markdown",
   "id": "7e87dfd1",
   "metadata": {},
   "source": [
    "#### Manipulation Question 1:  Group by Rep ID and sum the resulting structure. Sort by calls to determine which rep in each branch has the highest number of calls."
   ]
  },
  {
   "cell_type": "code",
   "execution_count": 10,
   "id": "3953f09a",
   "metadata": {
    "scrolled": true
   },
   "outputs": [
    {
     "name": "stdout",
     "output_type": "stream",
     "text": [
      "Rep ID  Branch\n",
      "Brent   North     37\n",
      "Eric    South     35\n",
      "Randy   South     33\n",
      "Sandy   South     32\n",
      "Helga   South     31\n",
      "Lilly   North     30\n",
      "George  South     29\n",
      "Kate    South     29\n",
      "Todd    North     29\n",
      "Duke    North     29\n",
      "Karl    South     28\n",
      "Joe     North     26\n",
      "Susan   South     26\n",
      "Josh    South     26\n",
      "Sharon  South     25\n",
      "Cam     North     24\n",
      "Xander  North     24\n",
      "Amanda  North     23\n",
      "Andy    North     23\n",
      "Alice   South     20\n",
      "Name: Calls, dtype: int64\n"
     ]
    }
   ],
   "source": [
    "# Manipulation Question solution below:\n",
    "# what does it mean by sum the resulting structure?\n",
    "number_of_calls = df.groupby([\"Rep ID\", \"Branch\"])[\"Calls\"].sum()\n",
    "\n",
    "sorted_calls = number_of_calls.sort_values(ascending=False)\n",
    "print(sorted_calls)"
   ]
  },
  {
   "cell_type": "markdown",
   "id": "7c29838c-1402-4e4b-94c9-050515d8dd18",
   "metadata": {},
   "source": [
    "##### Record your answer below\n",
    "Rep with the hightest number of calls and their total calls:\n",
    "- North Branch = Brent and 37\n",
    "- South Branch = Eric and 35 "
   ]
  },
  {
   "cell_type": "markdown",
   "id": "809293b9",
   "metadata": {},
   "source": [
    "#### Manipulation Question 2:  The average call abandonment rate is a KPI when it comes to determining call center efficiency. As you may recall, abandoned calls are calls where the customer hangs up due to long call times. What is the average call abandonment rate for each branch and the whole company? Do any of these fall out of the optimal range of 2-5%?"
   ]
  },
  {
   "cell_type": "code",
   "execution_count": 26,
   "id": "3dff7534",
   "metadata": {},
   "outputs": [
    {
     "name": "stdout",
     "output_type": "stream",
     "text": [
      "2.86%\n",
      "1.27%\n",
      "1.97%\n"
     ]
    }
   ],
   "source": [
    "# Manipulation Question 2 solution below:\n",
    "#abandoned calls/calls -look at north and south and then together group calls by branch and find the percentage\n",
    "\n",
    "north_abandoned = north_df['Abandoned'].sum()\n",
    "north_total_calls = north_df['Calls'].sum()\n",
    "\n",
    "percentage_abandonment_rate = round((north_abandoned/north_total_calls)*100,2)\n",
    "abandonment_rate_percentage = f\"{percentage_abandonment_rate}%\"\n",
    "print(abandonment_rate_percentage)\n",
    "\n",
    "south_abandoned = south_df['Abandoned'].sum()\n",
    "south_total_calls = south_df['Calls'].sum()\n",
    "\n",
    "percentage_abandonment_rate = round((south_abandoned/south_total_calls)*100,2)\n",
    "abandonment_rate_percentage = f\"{percentage_abandonment_rate}%\"\n",
    "print(abandonment_rate_percentage)\n",
    "\n",
    "\n",
    "df_abandoned = df['Abandoned'].sum()\n",
    "df_total_calls = df['Calls'].sum()\n",
    "\n",
    "percentage_abandonment_rate = round((df_abandoned/df_total_calls)*100,2)\n",
    "abandonment_rate_percentage = f\"{percentage_abandonment_rate}%\"\n",
    "print(abandonment_rate_percentage)"
   ]
  },
  {
   "cell_type": "markdown",
   "id": "c284596f-218f-4291-81b6-718ea5671feb",
   "metadata": {},
   "source": [
    "##### Record your answer below:\n",
    "Average Call Abandonment Rates (round to the nearest hundredth):\n",
    "- North Branch = 2.86%\n",
    "- South Branch = 1.27%\n",
    "- Company Wide = 1.97%\n",
    "- Do any of these fall out of the optimal range of 2-5%? Yes, it falls below 2%.  "
   ]
  },
  {
   "cell_type": "markdown",
   "id": "598bb1bf",
   "metadata": {},
   "source": [
    "#### Manipulation Question 3:  Service level is another KPI when it comes to measuring call center efficiency. Service level is the percentage of calls answered within a specific number of seconds. In the case of your employer, their ideal time frame is 2 seconds. What is the percentage of calls answered within 2 seconds for each branch and the entire company?"
   ]
  },
  {
   "cell_type": "code",
   "execution_count": 39,
   "id": "2fc8f669",
   "metadata": {},
   "outputs": [
    {
     "name": "stdout",
     "output_type": "stream",
     "text": [
      "two_second_wait\n",
      "False    212\n",
      "True      33\n",
      "Name: count, dtype: int64\n",
      "82\n",
      "percentage of calls answered within 2 seconds: 40.24%\n",
      "<class 'pandas.core.series.Series'>\n",
      "\n",
      "two_second_wait\n",
      "False    266\n",
      "True      48\n",
      "Name: count, dtype: int64\n",
      "percentage of calls answered within 2 seconds: 38.10%\n",
      "\n",
      "two_second_wait\n",
      "False    478\n",
      "True      81\n",
      "Name: count, dtype: int64\n",
      "percentage of calls answered within 2 seconds: 38.94%\n"
     ]
    }
   ],
   "source": [
    "# Manipulation Question 3 solution below: Incoming Wait Time. group by branch -conditional to find each call that\n",
    "#falls within the 2 seconds - assume that NaaN - 0 \n",
    "\n",
    "#north_df['Incoming Wait Time'] = north_df['Incoming Wait Time'].fillna(0)\n",
    "\n",
    "import numpy as np\n",
    "\n",
    "north_df.loc[north_df['Incoming Wait Time'] == 0, 'Incoming Wait Time'] = np.nan\n",
    "\n",
    "def two_second_wait(row):\n",
    "    time = row['Incoming Wait Time']\n",
    "    if time <= 2:\n",
    "        return True \n",
    "    else:\n",
    "        return False\n",
    "north_df[\"two_second_wait\"] = north_df.apply(two_second_wait, axis=1)\n",
    "counts = north_df[\"two_second_wait\"].value_counts()\n",
    "print(counts)\n",
    "\n",
    "\n",
    "total_calls = north_df['Incoming Wait Time'].count()\n",
    "print(total_calls)\n",
    "\n",
    "true_count = counts.get(True,0)\n",
    "if total_calls !=0:\n",
    "    ratio = true_count / total_calls\n",
    "    print(f\"percentage of calls answered within 2 seconds: {ratio * 100:.2f}%\")\n",
    "else:\n",
    "    print(f\"division not possible.\")\n",
    "\n",
    "print(type(counts))\n",
    "\n",
    "print()\n",
    "\n",
    "south_df.loc[south_df['Incoming Wait Time'] == 0, 'Incoming Wait Time'] = np.nan\n",
    "\n",
    "def two_second_wait(row):\n",
    "    time = row['Incoming Wait Time']\n",
    "    if time <= 2:\n",
    "        return True \n",
    "    else:\n",
    "        return False\n",
    "south_df[\"two_second_wait\"] = south_df.apply(two_second_wait, axis=1)\n",
    "counts2 = south_df[\"two_second_wait\"].value_counts()\n",
    "print(counts2)\n",
    "\n",
    "\n",
    "total_calls = south_df['Incoming Wait Time'].count()\n",
    "\n",
    "true_count = counts2.get(True,0)\n",
    "if total_calls !=0:\n",
    "    ratio = true_count / total_calls\n",
    "    print(f\"percentage of calls answered within 2 seconds: {ratio * 100:.2f}%\")\n",
    "else:\n",
    "    print(f\"division not possible.\")\n",
    "\n",
    "print()\n",
    "\n",
    "df.loc[df['Incoming Wait Time'] == 0, 'Incoming Wait Time'] = np.nan\n",
    "\n",
    "def two_second_wait(row):\n",
    "    time = row['Incoming Wait Time']\n",
    "    if time <= 2:\n",
    "        return True \n",
    "    else:\n",
    "        return False\n",
    "df[\"two_second_wait\"] = df.apply(two_second_wait, axis=1)\n",
    "counts3 = df[\"two_second_wait\"].value_counts()\n",
    "print(counts3)\n",
    "\n",
    "total_calls = df['Incoming Wait Time'].count()\n",
    "\n",
    "true_count = counts3.get(True,0)\n",
    "if total_calls !=0:\n",
    "    ratio = true_count / total_calls\n",
    "    print(f\"percentage of calls answered within 2 seconds: {ratio * 100:.2f}%\")\n",
    "else:\n",
    "    print(f\"division not possible.\")\n",
    "\n"
   ]
  },
  {
   "cell_type": "markdown",
   "id": "e3a4c9d9-4e11-4e1f-859a-d2c919f7d9ce",
   "metadata": {},
   "source": [
    "##### Record your answer below:\n",
    "Percentage of calls answered within 2 seconds, include # of calls:\n",
    "- North Branch = 40.24%, 33 calls\n",
    "- South Branch = 38.10%, 48 calls\n",
    "- Company Wide = 38.94%, 81 calls"
   ]
  },
  {
   "cell_type": "markdown",
   "id": "7e19e705",
   "metadata": {},
   "source": [
    "#### Manipulation Question 4: For each branch and the entire company, what is the average speed of answer?"
   ]
  },
  {
   "cell_type": "code",
   "execution_count": 46,
   "id": "72a653ed",
   "metadata": {},
   "outputs": [
    {
     "name": "stdout",
     "output_type": "stream",
     "text": [
      "3.05\n",
      "3.0\n",
      "3.02\n"
     ]
    }
   ],
   "source": [
    "# Manipulation Question 4 solution below: Incoming Wait Time\n",
    "\n",
    "average_north = round(north_df['Incoming Wait Time'].mean(),2)\n",
    "average_south = round(south_df['Incoming Wait Time'].mean(),2)\n",
    "average_df = round(df['Incoming Wait Time'].mean(),2)\n",
    "\n",
    "print(average_north)\n",
    "print(average_south)\n",
    "print(average_df)\n"
   ]
  },
  {
   "cell_type": "markdown",
   "id": "fb04c65b-442b-48e1-b22c-b2af8b835ffd",
   "metadata": {},
   "source": [
    "##### Record your answer by below:\n",
    "Average speed of answer (rounded to nearest hundredth):\n",
    "- North Branch in seconds = 3.05 sec\n",
    "- South Branch in seconds = 3.0 sec\n",
    "- Company Wide in seconds = 3.02 sec"
   ]
  },
  {
   "cell_type": "markdown",
   "id": "d5f50a40",
   "metadata": {},
   "source": [
    "## Task 4: Visualization\n",
    "\n",
    "Create a visualization for each of the following questions. Some of the code to handle aggregating and storing data may be written for you. For each visualization, you choose the chart style that you feel suits the situation best. Make note of the chart style you chose and why. \n",
    "\n",
    "*NOTE Some questions you may decide to use more than one chart and or chart style."
   ]
  },
  {
   "cell_type": "markdown",
   "id": "66ccf83c",
   "metadata": {},
   "source": [
    "#### Visualization 1:  What is the average abandonment rate per queue?"
   ]
  },
  {
   "cell_type": "code",
   "execution_count": 14,
   "id": "c971d779",
   "metadata": {
    "scrolled": true
   },
   "outputs": [
    {
     "data": {
      "text/plain": [
       "Text(0, 0.5, 'Average Abandonment Rate')"
      ]
     },
     "execution_count": 14,
     "metadata": {},
     "output_type": "execute_result"
    },
    {
     "data": {
      "image/png": "[encoded data removed]",
      "text/plain": [
       "<Figure size 640x480 with 1 Axes>"
      ]
     },
     "metadata": {},
     "output_type": "display_data"
    }
   ],
   "source": [
    "# Create visualization 1 here\n",
    "# Import any additional libraries needed with alias\n",
    "import pandas as pd\n",
    "import numpy as np\n",
    "import matplotlib.pyplot as plt\n",
    "\n",
    "north_df = pd.read_csv(r'C:\\Users\\Sabria\\Desktop\\Python\\call-center-cleanup-assignment\\\\NorthCallCenter.csv')\n",
    "south_df = pd.read_csv(r'C:\\Users\\Sabria\\Desktop\\Python\\call-center-cleanup-assignment\\\\SouthCallCenter.csv')\n",
    "\n",
    "df = pd.concat([north_df, south_df])\n",
    "\n",
    "# The dictionary abandonment_rates has the data you need.\n",
    "abandonment_rates = {}\n",
    "queues = [\"A\", \"B\", \"C\", \"D\"]\n",
    "queue_dict = df.groupby(\"Queue\").agg(\"sum\")\n",
    "for i in range(4):\n",
    "    abandonment_rates[queues[i]] = queue_dict[\"Abandoned\"].iloc[i] / queue_dict[\"Calls\"].iloc[i] \n",
    "\n",
    "#Your code below:\n",
    "\n",
    "plt.bar(x=queues, height= list(abandonment_rates.values()),width=.4, color ='maroon')\n",
    "\n",
    "plt.title(\"Average Abandonment rate per Queue\")\n",
    "plt.xlabel(\"Queue\")\n",
    "plt.ylabel(\"Average Abandonment Rate\")\n"
   ]
  },
  {
   "cell_type": "markdown",
   "id": "00a821e7-b296-4950-8889-dacf36ef37fb",
   "metadata": {
    "jp-MarkdownHeadingCollapsed": true
   },
   "source": [
    "##### Record your answer below:\n",
    "\n",
    "> Chart style you chose and why:\n",
    "> I chose this style, because I want to compare the values of each queue and this bar chart does that clearly and accurately. "
   ]
  },
  {
   "cell_type": "markdown",
   "id": "4a9fc77f",
   "metadata": {},
   "source": [
    "#### Visualization 2: What is the service level percentage and average speed of answer for each rep in the North Branch?"
   ]
  },
  {
   "cell_type": "code",
   "execution_count": 24,
   "id": "44096730",
   "metadata": {},
   "outputs": [
    {
     "name": "stdout",
     "output_type": "stream",
     "text": [
      "Requirement already satisfied: pandas in c:\\users\\sabria\\appdata\\local\\programs\\python\\python312\\lib\\site-packages (2.2.2)\n",
      "Requirement already satisfied: numpy>=1.26.0 in c:\\users\\sabria\\appdata\\local\\programs\\python\\python312\\lib\\site-packages (from pandas) (2.1.1)\n",
      "Requirement already satisfied: python-dateutil>=2.8.2 in c:\\users\\sabria\\appdata\\local\\programs\\python\\python312\\lib\\site-packages (from pandas) (2.9.0.post0)\n",
      "Requirement already satisfied: pytz>=2020.1 in c:\\users\\sabria\\appdata\\local\\programs\\python\\python312\\lib\\site-packages (from pandas) (2024.2)\n",
      "Requirement already satisfied: tzdata>=2022.7 in c:\\users\\sabria\\appdata\\local\\programs\\python\\python312\\lib\\site-packages (from pandas) (2024.1)\n",
      "Requirement already satisfied: six>=1.5 in c:\\users\\sabria\\appdata\\local\\programs\\python\\python312\\lib\\site-packages (from python-dateutil>=2.8.2->pandas) (1.16.0)\n",
      "   Rep ID  Incoming Wait Time  Calls_x  Calls_y  Service Level %\n",
      "0  Amanda            2.400000        3        5        60.000000\n",
      "1    Andy            3.600000        3       10        30.000000\n",
      "2   Brent            2.125000        6        8        75.000000\n",
      "3     Cam            2.909091        5       11        45.454545\n",
      "4    Duke            2.785714        6       14        42.857143\n",
      "5     Joe            3.600000        2       10        20.000000\n",
      "6   Lilly            3.083333        4       12        33.333333\n",
      "7    Todd            3.500000        2        6        33.333333\n",
      "8  Xander            3.333333        2        6        33.333333\n",
      "\n",
      "41.48% average service level\n",
      "3.04secs\n"
     ]
    },
    {
     "data": {
      "image/png": "[encoded data removed]",
      "text/plain": [
       "<Figure size 1000x800 with 1 Axes>"
      ]
     },
     "metadata": {},
     "output_type": "display_data"
    },
    {
     "name": "stdout",
     "output_type": "stream",
     "text": [
      "    Rep ID  Incoming Wait Time  Calls_x  Calls_y  Service Level %\n",
      "0    Alice            2.500000        3        6        50.000000\n",
      "1     Eric            2.611111       10       18        55.555556\n",
      "2   George            3.153846        4       13        30.769231\n",
      "3    Helga            3.272727        3       11        27.272727\n",
      "4     Josh            3.444444        2        9        22.222222\n",
      "5     Karl            2.888889        3        9        33.333333\n",
      "6     Kate            3.363636        3       11        27.272727\n",
      "7    Randy            2.937500        7       16        43.750000\n",
      "8    Sandy            2.615385        7       13        53.846154\n",
      "9   Sharon            3.625000        1        8        12.500000\n",
      "10   Susan            2.916667        5       12        41.666667\n",
      "\n",
      "36.2% average service level\n",
      "3.03secs\n"
     ]
    },
    {
     "data": {
      "image/png": "[encoded data removed]",
      "text/plain": [
       "<Figure size 1000x800 with 1 Axes>"
      ]
     },
     "metadata": {},
     "output_type": "display_data"
    }
   ],
   "source": [
    " # Create visualization 2 here\n",
    "# north_plt contains the data you need for the average speed of answer of each rep\n",
    "\n",
    "!pip install pandas\n",
    "import pandas as pd \n",
    "import numpy as np\n",
    "import matplotlib.pyplot as plt\n",
    "\n",
    "north_df = pd.read_csv(r'C:\\Users\\Sabria\\Desktop\\Python\\call-center-cleanup-assignment\\\\NorthCallCenter.csv')\n",
    "south_df = pd.read_csv(r'C:\\Users\\Sabria\\Desktop\\Python\\call-center-cleanup-assignment\\\\SouthCallCenter.csv')\n",
    "\n",
    "north_plt = north_df.groupby(\"Rep ID\")[\"Incoming Wait Time\"].mean().to_frame().reset_index()\n",
    "\n",
    "# Finding each Rep's Personal Service Level Percentage.  Basically, Calls within 2 secs / total calls\n",
    "\n",
    "# Table 1: Total Incoming calls less than 2 seconds grouped by Rep\n",
    "quick_calls = north_df[north_df[\"Incoming Wait Time\"] <= 2.0]\n",
    "quick_reps = quick_calls[[\"Rep ID\", \"Calls\"]]\n",
    "quick_stats = quick_reps.groupby([\"Rep ID\"]).sum()  # Final Table\n",
    "\n",
    "\n",
    "# Table 2: Total Incoming Calls Only grouped by Rep\n",
    "total_calls_in = north_df[north_df[\"Incoming or Outgoing\"] == \"Incoming\"]\n",
    "rep_calls = total_calls_in[[\"Rep ID\", \"Calls\"]]     \n",
    "total_stats = rep_calls.groupby([\"Rep ID\"]).sum() # Final Table  \n",
    "\n",
    "#  Table 3: Service Level Perecentage created via merge\n",
    "service_level = pd.merge(quick_stats, total_stats, on=\"Rep ID\")\n",
    "\n",
    "# Create Percentage Column in Table 3\n",
    "service_level[\"Service Level %\"] = service_level[\"Calls_x\"]/service_level[\"Calls_y\"] * 100\n",
    "\n",
    "final_stats = pd.merge(north_plt, service_level, on= \"Rep ID\")\n",
    "print(final_stats)\n",
    "\n",
    "rep_ids = final_stats['Rep ID']\n",
    "service_level = final_stats['Service Level %']\n",
    "incoming_wait_time = final_stats['Incoming Wait Time']\n",
    "\n",
    "print()\n",
    "\n",
    "average = round(service_level.mean(),2)\n",
    "average_percentage = f\"{average}% average service level\"\n",
    "print(average_percentage)\n",
    "\n",
    "average2 = round(incoming_wait_time.mean(),2)\n",
    "average_incoming_wait_time = f\"{average2}secs\"\n",
    "print(average_incoming_wait_time)\n",
    "\n",
    "x = np.arange(len(rep_ids))\n",
    "width = 0.5\n",
    "\n",
    "#plot data in grouped manner of bar type \n",
    "plt.figure(figsize=(10,8))\n",
    "plt.bar(x-0.2, service_level, width, color='blue')\n",
    "plt.bar(x+0.2, incoming_wait_time, width, color='green')\n",
    "plt.xticks(x, rep_ids)\n",
    "plt.xlabel(\"Rep ID\")\n",
    "max_y_value = max(service_level.max(), incoming_wait_time.max())\n",
    "plt.yticks(np.arange(0, max_y_value + 2,2))\n",
    "plt.ylabel(\"% for blue, secs for green\")\n",
    "plt.legend([\"Service Level\", \"Incoming Wait Time\"])\n",
    "plt.show()\n",
    "           \n",
    "\n",
    "#south_df \n",
    "\n",
    "south_plt = south_df.groupby(\"Rep ID\")[\"Incoming Wait Time\"].mean().to_frame().reset_index()\n",
    "\n",
    "# Finding each Rep's Personal Service Level Percentage.  Basically, Calls within 2 secs / total calls\n",
    "\n",
    "# Table 1: Total Incoming calls less than 2 seconds grouped by Rep\n",
    "quick_calls = south_df[south_df[\"Incoming Wait Time\"] <= 2.0]\n",
    "quick_reps = quick_calls[[\"Rep ID\", \"Calls\"]]\n",
    "quick_stats = quick_reps.groupby([\"Rep ID\"]).sum()  # Final Table\n",
    "\n",
    "\n",
    "# Table 2: Total Incoming Calls Only grouped by Rep\n",
    "total_calls_in = south_df[south_df[\"Incoming or Outgoing\"] == \"Incoming\"]\n",
    "rep_calls = total_calls_in[[\"Rep ID\", \"Calls\"]]     \n",
    "total_stats = rep_calls.groupby([\"Rep ID\"]).sum() # Final Table  \n",
    "\n",
    "#  Table 3: Service Level Perecentage created via merge\n",
    "service_level = pd.merge(quick_stats, total_stats, on=\"Rep ID\")\n",
    "\n",
    "# Create Percentage Column in Table 3\n",
    "service_level[\"Service Level %\"] = service_level[\"Calls_x\"]/service_level[\"Calls_y\"] * 100\n",
    "\n",
    "final_stats = pd.merge(south_plt, service_level, on= \"Rep ID\")\n",
    "print(final_stats)\n",
    "\n",
    "rep_ids = final_stats['Rep ID']\n",
    "service_level = final_stats['Service Level %']\n",
    "incoming_wait_time = final_stats['Incoming Wait Time']\n",
    "\n",
    "print()\n",
    "\n",
    "average = round(service_level.mean(),2)\n",
    "average_percentage = f\"{average}% average service level\"\n",
    "print(average_percentage)\n",
    "\n",
    "average2 = round(incoming_wait_time.mean(),2)\n",
    "average_incoming_wait_time = f\"{average2}secs\"\n",
    "print(average_incoming_wait_time)\n",
    "\n",
    "x = np.arange(len(rep_ids))\n",
    "width = 0.5\n",
    "\n",
    "#plot data in grouped manner of bar type \n",
    "plt.figure(figsize=(10,8))\n",
    "plt.bar(x-0.2, service_level, width, color='blue')\n",
    "plt.bar(x+0.2, incoming_wait_time, width, color='green')\n",
    "plt.xticks(x, rep_ids)\n",
    "plt.xlabel(\"Rep ID\")\n",
    "max_y_value = max(service_level.max(), incoming_wait_time.max())\n",
    "plt.yticks(np.arange(0, max_y_value + 2,2))\n",
    "plt.ylabel(\"% for blue, secs for green\")\n",
    "plt.legend([\"Service Level\", \"Incoming Wait Time\"])\n",
    "plt.show()\n",
    "\n",
    "# 41.48% average service level of north, 3.04 incoming wait time average\n",
    "# 36.20% average service level of south, 3.03 incoming wait time average"
   ]
  },
  {
   "cell_type": "markdown",
   "id": "4d4cad4d-f9fb-4927-8a45-4b5cd17edd3a",
   "metadata": {},
   "source": [
    "##### Record your answer below:\n",
    "\n",
    "> Chart style you chose and why: I chose this chart style, because it enables me to compare the service level and the incoming wait time of each representative. "
   ]
  },
  {
   "cell_type": "markdown",
   "id": "f965e41a",
   "metadata": {},
   "source": [
    "#### Visualization 3: For each type of call purpose, how many calls are outgoing vs. incoming?"
   ]
  },
  {
   "cell_type": "code",
   "execution_count": 11,
   "id": "cf90985d",
   "metadata": {},
   "outputs": [
    {
     "name": "stdout",
     "output_type": "stream",
     "text": [
      "Call Purpose     Incoming or Outgoing\n",
      "Complaint        Incoming                 51\n",
      "Product Support  Outgoing                228\n",
      "                 Incoming                 82\n",
      "Sales Support    Outgoing                123\n",
      "                 Incoming                 75\n",
      "Name: count, dtype: int64\n"
     ]
    },
    {
     "data": {
      "image/png": "[encoded data removed]",
      "text/plain": [
       "<Figure size 1000x800 with 1 Axes>"
      ]
     },
     "metadata": {},
     "output_type": "display_data"
    }
   ],
   "source": [
    "# Create visualization 3 here:\n",
    "# The three dictionaries, complaints, sales_support, and product_support, have the information you need\n",
    "import pandas as pd\n",
    "import numpy as np\n",
    "import matplotlib.pyplot as plt\n",
    "\n",
    "df = pd.concat([north_df, south_df])\n",
    "\n",
    "purpose_group = df.groupby(\"Call Purpose\")\n",
    "call_purpose = [\"Complaint\", \"Product Support\", \"Sales Support\"]\n",
    "purpose_counts = purpose_group[\"Incoming or Outgoing\"].value_counts()\n",
    "print(purpose_counts)\n",
    "\n",
    "complaints = purpose_counts[\"Complaint\"].to_dict()\n",
    "sales_support = purpose_counts[\"Sales Support\"].to_dict()\n",
    "product_support = purpose_counts[\"Product Support\"].to_dict()\n",
    "\n",
    "#Your Code Here:\n",
    "\n",
    "categories = ['Complaint', 'Product Support', 'Sales Support']\n",
    "incoming_counts = [complaints.get('Incoming', 0), product_support.get('Incoming',0), sales_support.get('Incoming',0)]\n",
    "outgoing_counts = [complaints.get('Outgoing', 0), product_support.get('Outgoing',0), sales_support.get('Outgoing',0)]\n",
    "\n",
    "x = np.arange(len(categories))\n",
    "width = 0.5\n",
    "\n",
    "#plot data in grouped manner of bar type \n",
    "plt.figure(figsize=(10,8))\n",
    "plt.bar(x-0.2, incoming_counts, width, color='blue', label='Incoming')\n",
    "plt.bar(x+0.2, outgoing_counts, width, color='green', label='Outgoing')\n",
    "plt.xticks(x, categories)\n",
    "plt.xlabel(\"Call Purpose\")\n",
    "max_y_value = max(max(incoming_counts), max(outgoing_counts))\n",
    "plt.yticks(np.arange(0, max_y_value + 20,20))\n",
    "plt.ylim(0,240)\n",
    "plt.ylabel(\"Number of Calls\")\n",
    "plt.legend([\"Incoming\", \"Outgoing\"])\n",
    "plt.show()\n"
   ]
  },
  {
   "cell_type": "markdown",
   "id": "9198bbe4-44ef-4e21-bd40-6ace8e9f7694",
   "metadata": {},
   "source": [
    "##### Record your answer below:\n",
    "\n",
    "> Chart style you chose and why: I am able to measure the number of calls, the type of call (outgoing/incoming), and the purpose of the call (complaint,etc) in a simple bar chart. "
   ]
  },
  {
   "cell_type": "markdown",
   "id": "ea7ed568",
   "metadata": {},
   "source": [
    "## Task 5: Summarize Your Work\n",
    "\n",
    "With what you know now about the two call centers and the entire company, answer the following questions. Note that while this is subjective, you should include relevant data to back up your opinion.\n"
   ]
  },
  {
   "cell_type": "markdown",
   "id": "d2fc3d13",
   "metadata": {},
   "source": [
    "#### Summary Question 1:  Using KPIs such as average abandonment rate, service level and average speed of answer, in your opinion, which one of the two branches is operating more efficiently? Why?\n",
    "\n",
    "##### Record your answer below:\n",
    "> Your Answer: The North branch is operating more efficiently, because it has a higher service level than the south branch and similar incoming wait time to the south branch. \n"
   ]
  },
  {
   "cell_type": "markdown",
   "id": "489f28d6",
   "metadata": {},
   "source": [
    "#### Summary Question 2: Based on the number of reps in each branch and how quickly the reps are working, in your opinion, which branch would benefit from the extra help?\n",
    "\n",
    "##### Record your answer below:\n",
    "> Your Answer:\n",
    "> Considering the 11 representatives in the south branch versus the 8 representatives in the north branch and how quickly they are working, the south branch would benefit from the extra help\n"
   ]
  },
  {
   "cell_type": "raw",
   "id": "cf9405e6-e057-4bbd-9b62-10ce9bdd6d8c",
   "metadata": {},
   "source": [
    "#### Summary Question 3: Now that you have explored the datasets, is there any data or information that you wish you had in this analysis\n",
    "\n",
    "##### Record your answer below:\n",
    "> Your Answer: \n",
    "> I wished I had more information on outgoing versus incoming calls. And I think information on how long the calls were versus the satisfaction of the customer would have been helpful. Otherwise, I would take the length of the calls and see if there is a correlation on whether or not that call had a sale. \n"
   ]
  },
  {
   "cell_type": "markdown",
   "id": "ce16f43d",
   "metadata": {},
   "source": [
    "## Bonus Mission\n",
    "Create a visualization that answers this question: For each call purpose, how many calls (incoming and outgoing) take place in each time block?\n",
    "##### Record your answer below:\n",
    "\n",
    "> Chart style you chose and why: "
   ]
  },
  {
   "cell_type": "code",
   "execution_count": 4,
   "id": "71b04f32",
   "metadata": {},
   "outputs": [
    {
     "ename": "NameError",
     "evalue": "name 'df' is not defined",
     "output_type": "error",
     "traceback": [
      "\u001b[0;31m---------------------------------------------------------------------------\u001b[0m",
      "\u001b[0;31mNameError\u001b[0m                                 Traceback (most recent call last)",
      "\u001b[0;32m/tmp/ipykernel_10106/3163764672.py\u001b[0m in \u001b[0;36m<module>\u001b[0;34m\u001b[0m\n\u001b[1;32m      1\u001b[0m \u001b[0;31m# Create your Bonus Mission visualization here!\u001b[0m\u001b[0;34m\u001b[0m\u001b[0;34m\u001b[0m\u001b[0m\n\u001b[0;32m----> 2\u001b[0;31m \u001b[0mcall_times\u001b[0m \u001b[0;34m=\u001b[0m \u001b[0mdf\u001b[0m\u001b[0;34m[\u001b[0m\u001b[0;34m[\u001b[0m\u001b[0;34m\"Time Block\"\u001b[0m\u001b[0;34m,\u001b[0m \u001b[0;34m\"Call Purpose\"\u001b[0m\u001b[0;34m,\u001b[0m \u001b[0;34m\"Incoming or Outgoing\"\u001b[0m\u001b[0;34m,\u001b[0m \u001b[0;34m\"Calls\"\u001b[0m\u001b[0;34m]\u001b[0m\u001b[0;34m]\u001b[0m\u001b[0;34m\u001b[0m\u001b[0;34m\u001b[0m\u001b[0m\n\u001b[0m\u001b[1;32m      3\u001b[0m \u001b[0;34m\u001b[0m\u001b[0m\n\u001b[1;32m      4\u001b[0m \u001b[0;31m# Use groupby to plot based on time blocks:\u001b[0m\u001b[0;34m\u001b[0m\u001b[0;34m\u001b[0m\u001b[0m\n\u001b[1;32m      5\u001b[0m \u001b[0;34m\u001b[0m\u001b[0m\n",
      "\u001b[0;31mNameError\u001b[0m: name 'df' is not defined"
     ]
    }
   ],
   "source": [
    "# Create your Bonus Mission visualization here!\n",
    "call_times = df[[\"Time Block\", \"Call Purpose\", \"Incoming or Outgoing\", \"Calls\"]]\n",
    "\n",
    "# Use groupby to plot based on time blocks:\n",
    "\n",
    "# Use groupby and get_group to select which call purpose to plot:"
   ]
  }
 ],
 "metadata": {
  "kernelspec": {
   "display_name": "Python 3 (ipykernel)",
   "language": "python",
   "name": "python3"
  },
  "language_info": {
   "codemirror_mode": {
    "name": "ipython",
    "version": 3
   },
   "file_extension": ".py",
   "mimetype": "text/x-python",
   "name": "python",
   "nbconvert_exporter": "python",
   "pygments_lexer": "ipython3",
   "version": "3.12.5"
  }
 },
 "nbformat": 4,
 "nbformat_minor": 5
}
